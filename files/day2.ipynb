{
 "cells": [
  {
   "cell_type": "code",
   "execution_count": 14,
   "id": "5649ebfd",
   "metadata": {},
   "outputs": [],
   "source": [
    "import pandas as pd\n",
    "import yfinance as yf"
   ]
  },
  {
   "cell_type": "code",
   "execution_count": 36,
   "id": "177bf5b5",
   "metadata": {},
   "outputs": [
    {
     "name": "stderr",
     "output_type": "stream",
     "text": [
      "/var/folders/3p/fd9d2g015r79tgk1pvm70l100000gn/T/ipykernel_44855/1476439614.py:1: FutureWarning: YF.download() has changed argument auto_adjust default to True\n",
      "  data = yf.download(\"AAPL\", start=\"1980-01-01\")\n",
      "[*********************100%***********************]  1 of 1 completed\n"
     ]
    }
   ],
   "source": [
    "data = yf.download(\"AAPL\", start=\"1980-01-01\")\n",
    "data.columns = data.columns.get_level_values(0)\n",
    "data.to_csv(\"aapl.csv\")"
   ]
  },
  {
   "cell_type": "code",
   "execution_count": 39,
   "id": "965b8eb5",
   "metadata": {},
   "outputs": [],
   "source": [
    "stock_df = pd.read_csv(\"aapl.csv\", parse_dates=[\"Date\"], index_col=[\"Date\"])"
   ]
  },
  {
   "cell_type": "code",
   "execution_count": 41,
   "id": "f93d5ef9",
   "metadata": {},
   "outputs": [
    {
     "name": "stdout",
     "output_type": "stream",
     "text": [
      "<class 'pandas.core.frame.DataFrame'>\n",
      "DatetimeIndex: 11251 entries, 1980-12-12 to 2025-08-04\n",
      "Data columns (total 5 columns):\n",
      " #   Column  Non-Null Count  Dtype  \n",
      "---  ------  --------------  -----  \n",
      " 0   Close   11251 non-null  float64\n",
      " 1   High    11251 non-null  float64\n",
      " 2   Low     11251 non-null  float64\n",
      " 3   Open    11251 non-null  float64\n",
      " 4   Volume  11251 non-null  int64  \n",
      "dtypes: float64(4), int64(1)\n",
      "memory usage: 527.4 KB\n"
     ]
    }
   ],
   "source": [
    "stock_df.info()"
   ]
  },
  {
   "cell_type": "code",
   "execution_count": null,
   "id": "e84ecd08",
   "metadata": {},
   "outputs": [
    {
     "data": {
      "text/html": [
       "<div>\n",
       "<style scoped>\n",
       "    .dataframe tbody tr th:only-of-type {\n",
       "        vertical-align: middle;\n",
       "    }\n",
       "\n",
       "    .dataframe tbody tr th {\n",
       "        vertical-align: top;\n",
       "    }\n",
       "\n",
       "    .dataframe thead th {\n",
       "        text-align: right;\n",
       "    }\n",
       "</style>\n",
       "<table border=\"1\" class=\"dataframe\">\n",
       "  <thead>\n",
       "    <tr style=\"text-align: right;\">\n",
       "      <th></th>\n",
       "      <th>Close</th>\n",
       "      <th>High</th>\n",
       "      <th>Low</th>\n",
       "      <th>Open</th>\n",
       "      <th>Volume</th>\n",
       "    </tr>\n",
       "    <tr>\n",
       "      <th>Date</th>\n",
       "      <th></th>\n",
       "      <th></th>\n",
       "      <th></th>\n",
       "      <th></th>\n",
       "      <th></th>\n",
       "    </tr>\n",
       "  </thead>\n",
       "  <tbody>\n",
       "    <tr>\n",
       "      <th>1980-12-12</th>\n",
       "      <td>0.098597</td>\n",
       "      <td>0.099025</td>\n",
       "      <td>0.098597</td>\n",
       "      <td>0.098597</td>\n",
       "      <td>469033600</td>\n",
       "    </tr>\n",
       "    <tr>\n",
       "      <th>1980-12-15</th>\n",
       "      <td>0.093453</td>\n",
       "      <td>0.093881</td>\n",
       "      <td>0.093453</td>\n",
       "      <td>0.093881</td>\n",
       "      <td>175884800</td>\n",
       "    </tr>\n",
       "    <tr>\n",
       "      <th>1980-12-16</th>\n",
       "      <td>0.086594</td>\n",
       "      <td>0.087022</td>\n",
       "      <td>0.086594</td>\n",
       "      <td>0.087022</td>\n",
       "      <td>105728000</td>\n",
       "    </tr>\n",
       "    <tr>\n",
       "      <th>1980-12-17</th>\n",
       "      <td>0.088737</td>\n",
       "      <td>0.089165</td>\n",
       "      <td>0.088737</td>\n",
       "      <td>0.088737</td>\n",
       "      <td>86441600</td>\n",
       "    </tr>\n",
       "    <tr>\n",
       "      <th>1980-12-18</th>\n",
       "      <td>0.091310</td>\n",
       "      <td>0.091738</td>\n",
       "      <td>0.091310</td>\n",
       "      <td>0.091310</td>\n",
       "      <td>73449600</td>\n",
       "    </tr>\n",
       "  </tbody>\n",
       "</table>\n",
       "</div>"
      ],
      "text/plain": [
       "               Close      High       Low      Open     Volume\n",
       "Date                                                         \n",
       "1980-12-12  0.098597  0.099025  0.098597  0.098597  469033600\n",
       "1980-12-15  0.093453  0.093881  0.093453  0.093881  175884800\n",
       "1980-12-16  0.086594  0.087022  0.086594  0.087022  105728000\n",
       "1980-12-17  0.088737  0.089165  0.088737  0.088737   86441600\n",
       "1980-12-18  0.091310  0.091738  0.091310  0.091310   73449600"
      ]
     },
     "execution_count": 42,
     "metadata": {},
     "output_type": "execute_result"
    }
   ],
   "source": [
    "stock_df.head()"
   ]
  },
  {
   "cell_type": "code",
   "execution_count": 45,
   "id": "ff48d494",
   "metadata": {},
   "outputs": [
    {
     "data": {
      "text/html": [
       "<div>\n",
       "<style scoped>\n",
       "    .dataframe tbody tr th:only-of-type {\n",
       "        vertical-align: middle;\n",
       "    }\n",
       "\n",
       "    .dataframe tbody tr th {\n",
       "        vertical-align: top;\n",
       "    }\n",
       "\n",
       "    .dataframe thead th {\n",
       "        text-align: right;\n",
       "    }\n",
       "</style>\n",
       "<table border=\"1\" class=\"dataframe\">\n",
       "  <thead>\n",
       "    <tr style=\"text-align: right;\">\n",
       "      <th></th>\n",
       "      <th>Close</th>\n",
       "      <th>High</th>\n",
       "      <th>Low</th>\n",
       "      <th>Open</th>\n",
       "      <th>Volume</th>\n",
       "    </tr>\n",
       "  </thead>\n",
       "  <tbody>\n",
       "    <tr>\n",
       "      <th>count</th>\n",
       "      <td>11251.000000</td>\n",
       "      <td>11251.000000</td>\n",
       "      <td>11251.000000</td>\n",
       "      <td>11251.000000</td>\n",
       "      <td>1.125100e+04</td>\n",
       "    </tr>\n",
       "    <tr>\n",
       "      <th>mean</th>\n",
       "      <td>25.916800</td>\n",
       "      <td>26.179742</td>\n",
       "      <td>25.630079</td>\n",
       "      <td>25.896853</td>\n",
       "      <td>3.121280e+08</td>\n",
       "    </tr>\n",
       "    <tr>\n",
       "      <th>std</th>\n",
       "      <td>53.852240</td>\n",
       "      <td>54.388491</td>\n",
       "      <td>53.260891</td>\n",
       "      <td>53.801252</td>\n",
       "      <td>3.339984e+08</td>\n",
       "    </tr>\n",
       "    <tr>\n",
       "      <th>min</th>\n",
       "      <td>0.037724</td>\n",
       "      <td>0.038153</td>\n",
       "      <td>0.037724</td>\n",
       "      <td>0.038153</td>\n",
       "      <td>0.000000e+00</td>\n",
       "    </tr>\n",
       "    <tr>\n",
       "      <th>25%</th>\n",
       "      <td>0.244768</td>\n",
       "      <td>0.250295</td>\n",
       "      <td>0.239494</td>\n",
       "      <td>0.244618</td>\n",
       "      <td>1.084468e+08</td>\n",
       "    </tr>\n",
       "    <tr>\n",
       "      <th>50%</th>\n",
       "      <td>0.462710</td>\n",
       "      <td>0.468090</td>\n",
       "      <td>0.454720</td>\n",
       "      <td>0.461165</td>\n",
       "      <td>2.007152e+08</td>\n",
       "    </tr>\n",
       "    <tr>\n",
       "      <th>75%</th>\n",
       "      <td>20.296303</td>\n",
       "      <td>20.422476</td>\n",
       "      <td>20.161570</td>\n",
       "      <td>20.318143</td>\n",
       "      <td>3.916626e+08</td>\n",
       "    </tr>\n",
       "    <tr>\n",
       "      <th>max</th>\n",
       "      <td>258.396667</td>\n",
       "      <td>259.474086</td>\n",
       "      <td>257.010028</td>\n",
       "      <td>257.568678</td>\n",
       "      <td>7.421641e+09</td>\n",
       "    </tr>\n",
       "  </tbody>\n",
       "</table>\n",
       "</div>"
      ],
      "text/plain": [
       "              Close          High           Low          Open        Volume\n",
       "count  11251.000000  11251.000000  11251.000000  11251.000000  1.125100e+04\n",
       "mean      25.916800     26.179742     25.630079     25.896853  3.121280e+08\n",
       "std       53.852240     54.388491     53.260891     53.801252  3.339984e+08\n",
       "min        0.037724      0.038153      0.037724      0.038153  0.000000e+00\n",
       "25%        0.244768      0.250295      0.239494      0.244618  1.084468e+08\n",
       "50%        0.462710      0.468090      0.454720      0.461165  2.007152e+08\n",
       "75%       20.296303     20.422476     20.161570     20.318143  3.916626e+08\n",
       "max      258.396667    259.474086    257.010028    257.568678  7.421641e+09"
      ]
     },
     "execution_count": 45,
     "metadata": {},
     "output_type": "execute_result"
    }
   ],
   "source": [
    "stock_df.describe()"
   ]
  },
  {
   "cell_type": "code",
   "execution_count": 43,
   "id": "edc87c0e",
   "metadata": {},
   "outputs": [
    {
     "data": {
      "text/html": [
       "<div>\n",
       "<style scoped>\n",
       "    .dataframe tbody tr th:only-of-type {\n",
       "        vertical-align: middle;\n",
       "    }\n",
       "\n",
       "    .dataframe tbody tr th {\n",
       "        vertical-align: top;\n",
       "    }\n",
       "\n",
       "    .dataframe thead th {\n",
       "        text-align: right;\n",
       "    }\n",
       "</style>\n",
       "<table border=\"1\" class=\"dataframe\">\n",
       "  <thead>\n",
       "    <tr style=\"text-align: right;\">\n",
       "      <th></th>\n",
       "      <th>Close</th>\n",
       "      <th>High</th>\n",
       "      <th>Low</th>\n",
       "      <th>Open</th>\n",
       "      <th>Volume</th>\n",
       "    </tr>\n",
       "    <tr>\n",
       "      <th>Date</th>\n",
       "      <th></th>\n",
       "      <th></th>\n",
       "      <th></th>\n",
       "      <th></th>\n",
       "      <th></th>\n",
       "    </tr>\n",
       "  </thead>\n",
       "  <tbody>\n",
       "    <tr>\n",
       "      <th>2025-07-29</th>\n",
       "      <td>211.270004</td>\n",
       "      <td>214.809998</td>\n",
       "      <td>210.820007</td>\n",
       "      <td>214.179993</td>\n",
       "      <td>51411700</td>\n",
       "    </tr>\n",
       "    <tr>\n",
       "      <th>2025-07-30</th>\n",
       "      <td>209.050003</td>\n",
       "      <td>212.389999</td>\n",
       "      <td>207.720001</td>\n",
       "      <td>211.899994</td>\n",
       "      <td>45512500</td>\n",
       "    </tr>\n",
       "    <tr>\n",
       "      <th>2025-07-31</th>\n",
       "      <td>207.570007</td>\n",
       "      <td>209.839996</td>\n",
       "      <td>207.160004</td>\n",
       "      <td>208.490005</td>\n",
       "      <td>80698400</td>\n",
       "    </tr>\n",
       "    <tr>\n",
       "      <th>2025-08-01</th>\n",
       "      <td>202.380005</td>\n",
       "      <td>213.580002</td>\n",
       "      <td>201.500000</td>\n",
       "      <td>210.869995</td>\n",
       "      <td>104301700</td>\n",
       "    </tr>\n",
       "    <tr>\n",
       "      <th>2025-08-04</th>\n",
       "      <td>204.059998</td>\n",
       "      <td>207.880005</td>\n",
       "      <td>203.570007</td>\n",
       "      <td>204.505005</td>\n",
       "      <td>34745243</td>\n",
       "    </tr>\n",
       "  </tbody>\n",
       "</table>\n",
       "</div>"
      ],
      "text/plain": [
       "                 Close        High         Low        Open     Volume\n",
       "Date                                                                 \n",
       "2025-07-29  211.270004  214.809998  210.820007  214.179993   51411700\n",
       "2025-07-30  209.050003  212.389999  207.720001  211.899994   45512500\n",
       "2025-07-31  207.570007  209.839996  207.160004  208.490005   80698400\n",
       "2025-08-01  202.380005  213.580002  201.500000  210.869995  104301700\n",
       "2025-08-04  204.059998  207.880005  203.570007  204.505005   34745243"
      ]
     },
     "execution_count": 43,
     "metadata": {},
     "output_type": "execute_result"
    }
   ],
   "source": [
    "stock_df.tail()"
   ]
  },
  {
   "cell_type": "code",
   "execution_count": 46,
   "id": "2ea7b88b",
   "metadata": {},
   "outputs": [
    {
     "data": {
      "text/plain": [
       "Close     0\n",
       "High      0\n",
       "Low       0\n",
       "Open      0\n",
       "Volume    0\n",
       "dtype: int64"
      ]
     },
     "execution_count": 46,
     "metadata": {},
     "output_type": "execute_result"
    }
   ],
   "source": [
    "stock_df.isna().sum()"
   ]
  },
  {
   "cell_type": "code",
   "execution_count": 47,
   "id": "2984e9b7",
   "metadata": {},
   "outputs": [
    {
     "data": {
      "text/plain": [
       "Close     2.591680e+01\n",
       "High      2.617974e+01\n",
       "Low       2.563008e+01\n",
       "Open      2.589685e+01\n",
       "Volume    3.121280e+08\n",
       "dtype: float64"
      ]
     },
     "execution_count": 47,
     "metadata": {},
     "output_type": "execute_result"
    }
   ],
   "source": [
    "stock_df.mean()"
   ]
  },
  {
   "cell_type": "code",
   "execution_count": null,
   "id": "80635162",
   "metadata": {},
   "outputs": [],
   "source": []
  }
 ],
 "metadata": {
  "kernelspec": {
   "display_name": "pythonmljourney (3.13.3)",
   "language": "python",
   "name": "python3"
  },
  "language_info": {
   "codemirror_mode": {
    "name": "ipython",
    "version": 3
   },
   "file_extension": ".py",
   "mimetype": "text/x-python",
   "name": "python",
   "nbconvert_exporter": "python",
   "pygments_lexer": "ipython3",
   "version": "3.13.3"
  }
 },
 "nbformat": 4,
 "nbformat_minor": 5
}
